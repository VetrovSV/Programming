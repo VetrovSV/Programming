{
 "cells": [
  {
   "cell_type": "markdown",
   "metadata": {},
   "source": [
    "В Jupyter два режима работы: командный и режим ввода.\n",
    "\n",
    "В командном режиме можно изменять тип яйчеек, удалять, запускать, объеденяить яйчейки.\n",
    "В этом режиме цвет выделеной яйчейки - синий.\n",
    "см. справку по горчим клавишам\n",
    "\n",
    "В режиме ввода можно менять содержимое яйчеек.\n",
    "В командном режиме цвет редактируемой яйчейки - зелёный.\n",
    "\n",
    "Двойной клик или Enter устанавливают режим редактирования.\n",
    "Esc - командный режим."
   ]
  },
  {
   "cell_type": "markdown",
   "metadata": {},
   "source": [
    "В текстовых яйчейках (например в этой) для создание формул используется LaTeX \n",
    "https://ru.wikipedia.org/wiki/LaTeX\n",
    "\n",
    "Самый простой способ создать формулу - написать её междё двух двойных (или одинарных) знаков доллара.\n",
    "\n",
    "$ sin(x_i) + ... + sin(x_n) $\n",
    "\n",
    "$$ \\frac{a}{b} $$\n",
    "\n",
    "$$ X^{2n} $$\n",
    "\n",
    "$$ \\sum_{i=0}^{i=n}{ \\frac{1}{i!}} $$\n",
    "\n",
    "https://ru.sharelatex.com/learn/Integrals,_sums_and_limits - Примеры математических выражений\n",
    "\n",
    "http://www.ccas.ru/voron/download/voron05latex.pdf - LaTeX в примерах\n",
    "\n",
    "(Двойной клик для редактирования этой яйчейки)\n"
   ]
  },
  {
   "cell_type": "markdown",
   "metadata": {},
   "source": [
    "Легко вставить HTML в яйчейку с кодом:"
   ]
  },
  {
   "cell_type": "code",
   "execution_count": 27,
   "metadata": {},
   "outputs": [
    {
     "data": {
      "text/html": [
       "<img src = \"https://ichef.bbci.co.uk/news/660/cpsprodpb/070C/production/_95940810_gettyimages-98396986.jpg\">"
      ],
      "text/plain": [
       "<IPython.core.display.HTML object>"
      ]
     },
     "metadata": {},
     "output_type": "display_data"
    }
   ],
   "source": [
    "%%html\n",
    "<img src = \"https://ichef.bbci.co.uk/news/660/cpsprodpb/070C/production/_95940810_gettyimages-98396986.jpg\">"
   ]
  },
  {
   "cell_type": "markdown",
   "metadata": {},
   "source": [
    "Вставка локальной картинки.\n",
    "\n",
    "(Двойной клик по картинке для просмотра кода яйчейки)\n",
    "\n",
    "Подробности на stackoverflow.com: https://stackoverflow.com/questions/32370281/how-to-include-image-or-picture-in-jupyter-notebook"
   ]
  },
  {
   "cell_type": "markdown",
   "metadata": {},
   "source": [
    "![title](jupiter.jpg)"
   ]
  },
  {
   "cell_type": "code",
   "execution_count": 1,
   "metadata": {},
   "outputs": [
    {
     "name": "stdout",
     "output_type": "stream",
     "text": [
      "Programming-1.7z   Programming_2.pdf  Programming-4.7z   python_lec2_demo.ipynb\r\n",
      "Programming_1.pdf  Programming-3.7z   Programming_4.pdf\r\n",
      "Programming-2.7z   Programming_3.pdf  Programming_5.pdf\r\n"
     ]
    }
   ],
   "source": [
    "%ls"
   ]
  },
  {
   "cell_type": "code",
   "execution_count": 52,
   "metadata": {},
   "outputs": [
    {
     "data": {
      "text/html": [
       "<iframe width=\"560\" height=\"315\" \n",
       "src=\"https://www.youtube.com/embed/q4d-hKCpTEc\" \n",
       "frameborder=\"0\" allowfullscreen></iframe>"
      ],
      "text/plain": [
       "<IPython.core.display.HTML object>"
      ]
     },
     "metadata": {},
     "output_type": "display_data"
    }
   ],
   "source": [
    "%%html\n",
    "<iframe width=\"560\" height=\"315\" \n",
    "src=\"https://www.youtube.com/embed/q4d-hKCpTEc\" \n",
    "frameborder=\"0\" allowfullscreen></iframe>"
   ]
  },
  {
   "cell_type": "code",
   "execution_count": 4,
   "metadata": {
    "collapsed": true
   },
   "outputs": [],
   "source": [
    "from random import random\n",
    "from math import *"
   ]
  },
  {
   "cell_type": "markdown",
   "metadata": {},
   "source": [
    "Измерение времени выполнения кода\n",
    "\n",
    "Может быть неточным для кода работающего порядка первых едениц минут или меньше"
   ]
  },
  {
   "cell_type": "code",
   "execution_count": 5,
   "metadata": {},
   "outputs": [
    {
     "name": "stdout",
     "output_type": "stream",
     "text": [
      "Done!\n",
      "CPU times: user 0 ns, sys: 4 ms, total: 4 ms\n",
      "Wall time: 8.2 ms\n"
     ]
    }
   ],
   "source": [
    "%%time\n",
    "\n",
    "for i in range(10000):\n",
    "    x = sin(i)\n",
    "    \n",
    "print(\"Done!\")"
   ]
  },
  {
   "cell_type": "code",
   "execution_count": 6,
   "metadata": {
    "collapsed": true
   },
   "outputs": [],
   "source": [
    "from matplotlib.pyplot import plot, show, grid  # подключение функций для построения графиков"
   ]
  },
  {
   "cell_type": "code",
   "execution_count": 7,
   "metadata": {},
   "outputs": [
    {
     "data": {
      "image/png": "[encoded data removed]",
      "text/plain": [
       "<matplotlib.figure.Figure at 0x7f2c65e7e550>"
      ]
     },
     "metadata": {},
     "output_type": "display_data"
    }
   ],
   "source": [
    "X = [i/10 for i in range(-50,51)]\n",
    "Y = [sin(x) for x in X]\n",
    "grid(True)  # включить сетку\n",
    "plot(X,Y)   # построить график\n",
    "show()      # показать картинку с графиком"
   ]
  },
  {
   "cell_type": "code",
   "execution_count": null,
   "metadata": {
    "collapsed": true
   },
   "outputs": [],
   "source": []
  }
 ],
 "metadata": {
  "kernelspec": {
   "display_name": "Python 3",
   "language": "python",
   "name": "python3"
  },
  "language_info": {
   "codemirror_mode": {
    "name": "ipython",
    "version": 3
   },
   "file_extension": ".py",
   "mimetype": "text/x-python",
   "name": "python",
   "nbconvert_exporter": "python",
   "pygments_lexer": "ipython3",
   "version": "3.5.2"
  }
 },
 "nbformat": 4,
 "nbformat_minor": 2
}
